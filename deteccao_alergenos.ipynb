{
 "cells": [
  {
   "cell_type": "code",
   "execution_count": 1,
   "metadata": {
    "collapsed": true,
    "ExecuteTime": {
     "end_time": "2023-08-28T02:35:17.783310189Z",
     "start_time": "2023-08-28T02:35:17.542026517Z"
    }
   },
   "outputs": [
    {
     "data": {
      "text/plain": "                             product_name_pt  \\\n1                         Thé vert au jasmin   \n3             Pão para hamburger tradicional   \n8                                        NaN   \n26    Wafer recheado sabor Chocolate e Avelã   \n27                              Feijão preto   \n...                                      ...   \n5078                                     NaN   \n5079                                     NaN   \n5089                   Aveia em flocos finos   \n5095                        Manteiga com sal   \n5144  Manteiga de primeira qualidade com sal   \n\n                                    ingredients_text_pt  \\\n1                                                 milho   \n3     farinha de trigo enriquecida com ferro e acido...   \n8     batata, oleo misto vegetal de palma e soja e s...   \n26    acucar, gordura vegetal, farinha de trigo enri...   \n27                                         feijao preto   \n...                                                 ...   \n5078  informacao nutricional informacion nutricional...   \n5079  oleos vegetals quidos e interesterificados con...   \n5089  graos laminados de aveia em particulas finas\\n...   \n5095  creme de leite pasteurizado, cloreto de sodio ...   \n5144              creme de leite e sal cloreto de sodio   \n\n                                              alergenos  \n1                                                    []  \n3     [farinha de trigo enriquecida com ferro, glute...  \n8     [soja, sal alergicos contem derivados de soja,...  \n26    [farinha de trigo enriquecida com ferro, leite...  \n27                                                   []  \n...                                                 ...  \n5078                                                 []  \n5079                                 [lecitina de soja]  \n5089  [suas estirpes hibridizadas pode conter trigo,...  \n5095                      [creme de leite pasteurizado]  \n5144                                   [creme de leite]  \n\n[1175 rows x 3 columns]",
      "text/html": "<div>\n<style scoped>\n    .dataframe tbody tr th:only-of-type {\n        vertical-align: middle;\n    }\n\n    .dataframe tbody tr th {\n        vertical-align: top;\n    }\n\n    .dataframe thead th {\n        text-align: right;\n    }\n</style>\n<table border=\"1\" class=\"dataframe\">\n  <thead>\n    <tr style=\"text-align: right;\">\n      <th></th>\n      <th>product_name_pt</th>\n      <th>ingredients_text_pt</th>\n      <th>alergenos</th>\n    </tr>\n  </thead>\n  <tbody>\n    <tr>\n      <th>1</th>\n      <td>Thé vert au jasmin</td>\n      <td>milho</td>\n      <td>[]</td>\n    </tr>\n    <tr>\n      <th>3</th>\n      <td>Pão para hamburger tradicional</td>\n      <td>farinha de trigo enriquecida com ferro e acido...</td>\n      <td>[farinha de trigo enriquecida com ferro, glute...</td>\n    </tr>\n    <tr>\n      <th>8</th>\n      <td>NaN</td>\n      <td>batata, oleo misto vegetal de palma e soja e s...</td>\n      <td>[soja, sal alergicos contem derivados de soja,...</td>\n    </tr>\n    <tr>\n      <th>26</th>\n      <td>Wafer recheado sabor Chocolate e Avelã</td>\n      <td>acucar, gordura vegetal, farinha de trigo enri...</td>\n      <td>[farinha de trigo enriquecida com ferro, leite...</td>\n    </tr>\n    <tr>\n      <th>27</th>\n      <td>Feijão preto</td>\n      <td>feijao preto</td>\n      <td>[]</td>\n    </tr>\n    <tr>\n      <th>...</th>\n      <td>...</td>\n      <td>...</td>\n      <td>...</td>\n    </tr>\n    <tr>\n      <th>5078</th>\n      <td>NaN</td>\n      <td>informacao nutricional informacion nutricional...</td>\n      <td>[]</td>\n    </tr>\n    <tr>\n      <th>5079</th>\n      <td>NaN</td>\n      <td>oleos vegetals quidos e interesterificados con...</td>\n      <td>[lecitina de soja]</td>\n    </tr>\n    <tr>\n      <th>5089</th>\n      <td>Aveia em flocos finos</td>\n      <td>graos laminados de aveia em particulas finas\\n...</td>\n      <td>[suas estirpes hibridizadas pode conter trigo,...</td>\n    </tr>\n    <tr>\n      <th>5095</th>\n      <td>Manteiga com sal</td>\n      <td>creme de leite pasteurizado, cloreto de sodio ...</td>\n      <td>[creme de leite pasteurizado]</td>\n    </tr>\n    <tr>\n      <th>5144</th>\n      <td>Manteiga de primeira qualidade com sal</td>\n      <td>creme de leite e sal cloreto de sodio</td>\n      <td>[creme de leite]</td>\n    </tr>\n  </tbody>\n</table>\n<p>1175 rows × 3 columns</p>\n</div>"
     },
     "metadata": {},
     "output_type": "display_data"
    }
   ],
   "source": [
    "import pandas as pd\n",
    "import re\n",
    "from unidecode import unidecode\n",
    "\n",
    "def preprocess_text(text):\n",
    "    text = text.lower().strip()\n",
    "    text = unidecode(text)\n",
    "    text = re.sub('[^a-zA-Záéíóúçãõôê\\s,]', '', text)\n",
    "    text = re.sub(',+', ',', text)\n",
    "    text = re.sub(' +', ' ', text)\n",
    "    return text\n",
    "\n",
    "def extract_ingredients(text):\n",
    "    pattern = r\"\\s*,\\s*|\\s+e\\s+(?=[a-zA-Z])\"\n",
    "    return [ingredient.strip() for ingredient in re.split(pattern, text)]\n",
    "\n",
    "def detect_allergens(ingredients):\n",
    "    allergens_set = {\"leite\", \"ovo\", \"amendoim\", \"soja\", \"trigo\", \"centeio\", \"cevada\"}\n",
    "    return [ingredient for ingredient in ingredients if any(allergen in ingredient for allergen in allergens_set)]\n",
    "\n",
    "df = pd.read_csv('openfoodfacts_export.csv', sep=\"\\t\", low_memory=False, usecols=[\"product_name_pt\",\"ingredients_text_pt\"])\n",
    "\n",
    "df.dropna(subset=['ingredients_text_pt'], inplace=True)\n",
    "\n",
    "df['ingredients_text_pt'] = df['ingredients_text_pt'].apply(preprocess_text)\n",
    "\n",
    "df['alergenos'] = df['ingredients_text_pt'].apply(lambda x: detect_allergens(extract_ingredients(x)))\n",
    "\n",
    "display(df)\n"
   ]
  }
 ],
 "metadata": {
  "kernelspec": {
   "display_name": "Python 3",
   "language": "python",
   "name": "python3"
  },
  "language_info": {
   "codemirror_mode": {
    "name": "ipython",
    "version": 2
   },
   "file_extension": ".py",
   "mimetype": "text/x-python",
   "name": "python",
   "nbconvert_exporter": "python",
   "pygments_lexer": "ipython2",
   "version": "2.7.6"
  }
 },
 "nbformat": 4,
 "nbformat_minor": 0
}
