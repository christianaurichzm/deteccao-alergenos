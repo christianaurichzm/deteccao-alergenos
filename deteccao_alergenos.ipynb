{
 "cells": [
  {
   "cell_type": "code",
   "execution_count": 17,
   "metadata": {
    "collapsed": true,
    "ExecuteTime": {
     "start_time": "2023-04-06T01:22:34.702675Z",
     "end_time": "2023-04-06T01:22:34.723699Z"
    }
   },
   "outputs": [
    {
     "name": "stdout",
     "output_type": "stream",
     "text": [
      "['xarope', 'glicose', 'acucar', 'amendoim', 'torrado', 'clara', 'ovo', 'pasteurizada', 'farinha', 'arroz', 'oleo', 'soja', 'aromatizante', 'extrato', 'natural', 'baunilha', 'emulsificante', 'lecitina', 'soja', 'contem', 'gluten']\n"
     ]
    },
    {
     "name": "stderr",
     "output_type": "stream",
     "text": [
      "[nltk_data] Downloading package stopwords to /home/chris/nltk_data...\n",
      "[nltk_data]   Package stopwords is already up-to-date!\n"
     ]
    }
   ],
   "source": [
    "import nltk\n",
    "import string\n",
    "from unidecode import unidecode\n",
    "\n",
    "nltk.download('stopwords')\n",
    "\n",
    "\n",
    "def processar_texto_ingredientes(texto_ingredientes):\n",
    "    texto_ingredientes = texto_ingredientes.lower()\n",
    "    ingredientes_tokens = nltk.tokenize.word_tokenize(texto_ingredientes, language='portuguese')\n",
    "    stopwords = set(nltk.corpus.stopwords.words('portuguese'))\n",
    "    pontuacoes = set(string.punctuation)\n",
    "    stopwords_and_pontuacoes = stopwords.union(pontuacoes)\n",
    "    ingredientes_tokens = [unidecode(x) for x in ingredientes_tokens if x not in stopwords_and_pontuacoes]\n",
    "    return ingredientes_tokens\n",
    "\n",
    "\n",
    "ingredientes_torrone = 'Xarope de glicose, açúcar, amendoim torrado, clara de ovo pasteurizada, farinha de arroz, óleo de soja, aromatizante extrato natural de baunilha e emulsificante lecitina de soja.'\n",
    "\n",
    "print(processar_texto_ingredientes(ingredientes_torrone))"
   ]
  }
 ],
 "metadata": {
  "kernelspec": {
   "display_name": "Python 3",
   "language": "python",
   "name": "python3"
  },
  "language_info": {
   "codemirror_mode": {
    "name": "ipython",
    "version": 2
   },
   "file_extension": ".py",
   "mimetype": "text/x-python",
   "name": "python",
   "nbconvert_exporter": "python",
   "pygments_lexer": "ipython2",
   "version": "2.7.6"
  }
 },
 "nbformat": 4,
 "nbformat_minor": 0
}
